{
 "cells": [
  {
   "cell_type": "markdown",
   "metadata": {},
   "source": [
    "# Genre Classification"
   ]
  },
  {
   "cell_type": "markdown",
   "metadata": {},
   "source": [
    "## 1 Introduction"
   ]
  },
  {
   "cell_type": "markdown",
   "metadata": {},
   "source": [
    "### 1.1 Environment Setup"
   ]
  },
  {
   "cell_type": "code",
   "execution_count": 1,
   "metadata": {},
   "outputs": [],
   "source": [
    "import pandas as pd\n",
    "import numpy as np\n",
    "from sklearn import preprocessing\n",
    "from sklearn.decomposition import PCA\n",
    "from sklearn.neighbors import KNeighborsClassifier\n",
    "from sklearn.ensemble import RandomForestClassifier\n",
    "from sklearn.ensemble import GradientBoostingClassifier\n",
    "from sklearn.linear_model import LogisticRegression\n",
    "from sklearn.model_selection import train_test_split\n",
    "from sklearn.model_selection import cross_val_score\n",
    "from sklearn.metrics import roc_curve # ROC Curves\n",
    "from sklearn.metrics import auc # Calculating AUC for ROC's!\n",
    "from matplotlib import pyplot as plt"
   ]
  },
  {
   "cell_type": "markdown",
   "metadata": {},
   "source": [
    "### 1.2 Loading the Data"
   ]
  },
  {
   "cell_type": "code",
   "execution_count": 2,
   "metadata": {},
   "outputs": [],
   "source": [
    "# load in song data\n",
    "country = pd.read_csv(\"/Users/candacemckeag/Documents/School/datasci/country.csv\")\n",
    "metal = pd.read_csv(\"/Users/candacemckeag/Documents/School/datasci/metal.csv\")\n",
    "rap = pd.read_csv(\"/Users/candacemckeag/Documents/School/datasci/rap.csv\")\n",
    "country['genre'] = 'country'\n",
    "metal['genre'] = 'metal'\n",
    "rap['genre'] = 'rap'\n",
    "songs = pd.concat([country, metal, rap])\n",
    "songs = songs.drop(['title','artist'],1)"
   ]
  },
  {
   "cell_type": "code",
   "execution_count": null,
   "metadata": {},
   "outputs": [],
   "source": [
    "allFeatures = [\"danceability\", \"energy\", \"key\", \"loudness\", \"mode\", \"speechiness\", \"acousticness\",\n",
    "\t\t\t\t \"instrumentalness\", \"liveness\", \"valence\", \"tempo\"]"
   ]
  },
  {
   "cell_type": "markdown",
   "metadata": {},
   "source": [
    "### 1.3 General Function Definitions"
   ]
  },
  {
   "cell_type": "markdown",
   "metadata": {},
   "source": [
    "The function *splitDataFrame* receives the song data and feature names, and then proceeds to split the data into training and testing sets along with separating the correct values."
   ]
  },
  {
   "cell_type": "code",
   "execution_count": 41,
   "metadata": {},
   "outputs": [],
   "source": [
    "# split dataframe into training and testing sets\n",
    "def splitDataFrame(songsdf, features):\n",
    "\tdf = pd.DataFrame(songsdf)\n",
    "\t#normalize data\n",
    "\ttrain, test = train_test_split(df, test_size = 0.2, random_state=7)\n",
    "\tstd_scale = preprocessing.MinMaxScaler().fit(train[features])\n",
    "\ttrain_trans = std_scale.fit_transform(train[features])\n",
    "\ttraining_set = pd.DataFrame(train_trans, columns = features)\n",
    "\ttarget = train['genre']\n",
    "\ttest_trans =  std_scale.transform(test[features])\n",
    "\ttest_set = pd.DataFrame(test_trans, columns = features)\n",
    "\ttest_target = test['genre']\n",
    "\treturn training_set, test_set, target, test_target"
   ]
  },
  {
   "cell_type": "markdown",
   "metadata": {},
   "source": [
    "The function *PCAOnDataFrame* is used to perform Principal Component Analysis on the training and testing sets. It returns the transformed training and testing sets along with a column of the component indices."
   ]
  },
  {
   "cell_type": "code",
   "execution_count": 42,
   "metadata": {},
   "outputs": [],
   "source": [
    "# perform PCA on training and testing set\n",
    "def PCAOnDataFrame(training_set, test_set, features, components):\n",
    "\tpca = PCA(n_components=components, random_state=7)\n",
    "\tpca.fit(training_set[features])\n",
    "\ttraining_set_pca = pca.fit_transform(training_set[features])\n",
    "\tcomponents_col = [x for x in range(0, components)]\n",
    "\ttraining_set = pd.DataFrame(training_set_pca, columns = components_col)\n",
    "\ttest_set_pca = pca.transform(test_set[features])\n",
    "\ttest_set = pd.DataFrame(test_set_pca, columns = components_col)\n",
    "\treturn training_set, test_set, components_col"
   ]
  },
  {
   "cell_type": "markdown",
   "metadata": {},
   "source": [
    "## 2 Model Building"
   ]
  },
  {
   "cell_type": "markdown",
   "metadata": {},
   "source": [
    "### 2.1 K-Nearest-Neighbors"
   ]
  },
  {
   "cell_type": "markdown",
   "metadata": {},
   "source": [
    "#### 2.1.1 Data Setup"
   ]
  },
  {
   "cell_type": "markdown",
   "metadata": {},
   "source": [
    "We begin by defining a function *predictGenreKNN* which performs KNN classification on a dataset using the user-defined number of neighbors. We split the data into a training and testing set."
   ]
  },
  {
   "cell_type": "code",
   "execution_count": 43,
   "metadata": {},
   "outputs": [],
   "source": [
    "# use KNN to predict category\n",
    "def predictGenreKNN(training_set, test_set,  target, test_target, componentsList, k):\n",
    "\tclassifier = KNeighborsClassifier(n_neighbors=k, metric='minkowski')\n",
    "\tclassifier.fit(training_set[componentsList], target)\n",
    "\treturn test_set, classifier.predict(test_set[componentsList]), test_target, classifier.score(test_set[componentsList], test_target)"
   ]
  },
  {
   "cell_type": "code",
   "execution_count": 71,
   "metadata": {},
   "outputs": [
    {
     "name": "stderr",
     "output_type": "stream",
     "text": [
      "/anaconda3/lib/python3.7/site-packages/sklearn/preprocessing/data.py:323: DataConversionWarning:\n",
      "\n",
      "Data with input dtype int64, float64 were all converted to float64 by MinMaxScaler.\n",
      "\n",
      "/anaconda3/lib/python3.7/site-packages/sklearn/preprocessing/data.py:323: DataConversionWarning:\n",
      "\n",
      "Data with input dtype int64, float64 were all converted to float64 by MinMaxScaler.\n",
      "\n"
     ]
    }
   ],
   "source": [
    "# split data\n",
    "training_set_knn, test_set_knn, target_knn, test_target_knn = splitDataFrame(songs, allFeatures)"
   ]
  },
  {
   "cell_type": "markdown",
   "metadata": {},
   "source": [
    "#### 2.1.2 Data Preprocessing"
   ]
  },
  {
   "cell_type": "markdown",
   "metadata": {},
   "source": [
    "We perform the Principal Component Analysis transformation iteratively in order to find the optimal number of components to use."
   ]
  },
  {
   "cell_type": "code",
   "execution_count": 151,
   "metadata": {},
   "outputs": [],
   "source": [
    "knnpcascores = []\n",
    "for i in range(1,12):\n",
    "    training_set, test_set, components_col = PCAOnDataFrame(training_set_knn, test_set_knn, allFeatures, i)\n",
    "    testdf, predictions, correctValues, score = predictGenreKNN(training_set, test_set, target, test_target, components_col, 10)\n",
    "    knnpcascores.append(score)"
   ]
  },
  {
   "cell_type": "code",
   "execution_count": 152,
   "metadata": {},
   "outputs": [
    {
     "data": {
      "text/plain": [
       "9"
      ]
     },
     "execution_count": 152,
     "metadata": {},
     "output_type": "execute_result"
    }
   ],
   "source": [
    "bestknnpca = np.argmax(knnpcascores) + 1\n",
    "bestknnpca"
   ]
  },
  {
   "cell_type": "markdown",
   "metadata": {},
   "source": [
    "We see that using 9 components is optimal, so we will proceed with this transformation in building our model."
   ]
  },
  {
   "cell_type": "code",
   "execution_count": 73,
   "metadata": {},
   "outputs": [],
   "source": [
    "training_set_knnpca, test_set_knnpca, components_col_knn = PCAOnDataFrame(training_set_knn, test_set_knn, allFeatures, bestknnpca)"
   ]
  },
  {
   "cell_type": "code",
   "execution_count": 74,
   "metadata": {
    "scrolled": true
   },
   "outputs": [
    {
     "data": {
      "image/png": "[encoded data removed]",
      "text/plain": [
       "<Figure size 432x288 with 1 Axes>"
      ]
     },
     "metadata": {
      "needs_background": "light"
     },
     "output_type": "display_data"
    }
   ],
   "source": [
    "plt.title('KNN Score as Number of PCA Components Increases')\n",
    "plt.plot(np.arange(1,12), knnpcascores)\n",
    "plt.xlabel('Number of Components')\n",
    "plt.ylabel('KNN Score')\n",
    "plt.show()"
   ]
  },
  {
   "cell_type": "markdown",
   "metadata": {},
   "source": [
    "#### 2.1.3 Parameter Tuning"
   ]
  },
  {
   "cell_type": "markdown",
   "metadata": {},
   "source": [
    "We iteratively build models in order to find the optimal number of neighbors which maximizes the model score."
   ]
  },
  {
   "cell_type": "code",
   "execution_count": 77,
   "metadata": {},
   "outputs": [],
   "source": [
    "# find optimal number of neighbors\n",
    "kscores = []\n",
    "for i in range(1,100):\n",
    "    testdf, predictions, correctValues, score = predictGenreKNN(training_set_knnpca, test_set_knnpca, target_knn, test_target_knn, components_col_knn, i)\n",
    "    kscores.append(score)"
   ]
  },
  {
   "cell_type": "code",
   "execution_count": 78,
   "metadata": {},
   "outputs": [
    {
     "data": {
      "text/plain": [
       "14"
      ]
     },
     "execution_count": 78,
     "metadata": {},
     "output_type": "execute_result"
    }
   ],
   "source": [
    "# assign to bestk\n",
    "bestk = np.argmax(kscores) + 1\n",
    "bestk"
   ]
  },
  {
   "cell_type": "markdown",
   "metadata": {},
   "source": [
    "We can see here that using 14 neighbors in our classifier optimizes the predictions. "
   ]
  },
  {
   "cell_type": "code",
   "execution_count": 81,
   "metadata": {},
   "outputs": [
    {
     "data": {
      "image/png": "[encoded data removed]",
      "text/plain": [
       "<Figure size 432x288 with 1 Axes>"
      ]
     },
     "metadata": {
      "needs_background": "light"
     },
     "output_type": "display_data"
    }
   ],
   "source": [
    "plt.title('KNN Score as Number of Neighbors Increases')\n",
    "plt.plot(np.arange(1,100), kscores)\n",
    "plt.xlabel('Number of Neighbors')\n",
    "plt.ylabel('KNN Score')\n",
    "plt.show()"
   ]
  },
  {
   "cell_type": "markdown",
   "metadata": {},
   "source": [
    "#### 2.1.4 Best Model"
   ]
  },
  {
   "cell_type": "code",
   "execution_count": 130,
   "metadata": {},
   "outputs": [],
   "source": [
    "KNN = KNeighborsClassifier(n_neighbors=bestk, metric='minkowski')"
   ]
  },
  {
   "cell_type": "markdown",
   "metadata": {},
   "source": [
    "The best k-nearest-neighbors model is trained on the PCA-transformed dataset with 9 components and uses 14 neighbors in classification."
   ]
  },
  {
   "cell_type": "markdown",
   "metadata": {},
   "source": [
    "### 2.2 Random Forest"
   ]
  },
  {
   "cell_type": "markdown",
   "metadata": {},
   "source": [
    "#### 2.2.1 Data Setup"
   ]
  },
  {
   "cell_type": "code",
   "execution_count": 82,
   "metadata": {},
   "outputs": [],
   "source": [
    "# use Random Forest to predict category\n",
    "def predictGenreRF(training_set, test_set,  target, test_target, componentsList, ntree):\n",
    "\tclassifier = RandomForestClassifier(n_estimators = ntree)\n",
    "\tclassifier.fit(training_set[componentsList], target)\n",
    "\treturn test_set, classifier.predict(test_set[componentsList]), test_target, classifier.score(test_set[componentsList], test_target)"
   ]
  },
  {
   "cell_type": "code",
   "execution_count": 83,
   "metadata": {
    "scrolled": true
   },
   "outputs": [
    {
     "name": "stderr",
     "output_type": "stream",
     "text": [
      "/anaconda3/lib/python3.7/site-packages/sklearn/preprocessing/data.py:323: DataConversionWarning:\n",
      "\n",
      "Data with input dtype int64, float64 were all converted to float64 by MinMaxScaler.\n",
      "\n",
      "/anaconda3/lib/python3.7/site-packages/sklearn/preprocessing/data.py:323: DataConversionWarning:\n",
      "\n",
      "Data with input dtype int64, float64 were all converted to float64 by MinMaxScaler.\n",
      "\n"
     ]
    }
   ],
   "source": [
    "# split data\n",
    "training_set_rf, test_set_rf, target_rf, test_target_rf = splitDataFrame(songs, allFeatures)"
   ]
  },
  {
   "cell_type": "markdown",
   "metadata": {},
   "source": [
    "#### 2.2.2 Data Preprocessing"
   ]
  },
  {
   "cell_type": "code",
   "execution_count": 86,
   "metadata": {},
   "outputs": [],
   "source": [
    "rfpcascores = []\n",
    "for i in range(1,12):\n",
    "    training_set, test_set, components_col = PCAOnDataFrame(training_set_knn, test_set_knn, allFeatures, i)\n",
    "    testdf, predictions, correctValues, score = predictGenreRF(training_set, test_set, target, test_target, components_col, 100)\n",
    "    rfpcascores.append(score)"
   ]
  },
  {
   "cell_type": "code",
   "execution_count": 87,
   "metadata": {},
   "outputs": [
    {
     "data": {
      "text/plain": [
       "11"
      ]
     },
     "execution_count": 87,
     "metadata": {},
     "output_type": "execute_result"
    }
   ],
   "source": [
    "bestrfpca = np.argmax(rfpcascores) + 1\n",
    "bestrfpca"
   ]
  },
  {
   "cell_type": "code",
   "execution_count": 88,
   "metadata": {},
   "outputs": [],
   "source": [
    "training_set_rfpca, test_set_rfpca, components_col_rf = PCAOnDataFrame(training_set_rf, test_set_rf, allFeatures, bestrfpca)"
   ]
  },
  {
   "cell_type": "code",
   "execution_count": 178,
   "metadata": {},
   "outputs": [
    {
     "data": {
      "image/png": "[encoded data removed]",
      "text/plain": [
       "<Figure size 432x288 with 1 Axes>"
      ]
     },
     "metadata": {
      "needs_background": "light"
     },
     "output_type": "display_data"
    }
   ],
   "source": [
    "plt.title('Random Forest Score as Number of PCA Components Increases')\n",
    "plt.plot(np.arange(1,12), rfpcascores)\n",
    "plt.xlabel('Number of Components')\n",
    "plt.ylabel('Random Forest Score')\n",
    "plt.show()"
   ]
  },
  {
   "cell_type": "markdown",
   "metadata": {},
   "source": [
    "#### 2.2.3 Parameter Tuning"
   ]
  },
  {
   "cell_type": "code",
   "execution_count": 89,
   "metadata": {},
   "outputs": [],
   "source": [
    "# find optimal number of trees\n",
    "treescores = []\n",
    "for i in range(50,150):\n",
    "    testdf, predictions, correctValues, score = predictGenreRF(training_set_rfpca, test_set_rfpca, target_rf, test_target_rf, components_col_rf, i)\n",
    "    treescores.append(score)"
   ]
  },
  {
   "cell_type": "code",
   "execution_count": 91,
   "metadata": {},
   "outputs": [
    {
     "data": {
      "text/plain": [
       "147"
      ]
     },
     "execution_count": 91,
     "metadata": {},
     "output_type": "execute_result"
    }
   ],
   "source": [
    "# assign to besttree\n",
    "besttree = np.argmax(treescores) + 50\n",
    "besttree"
   ]
  },
  {
   "cell_type": "code",
   "execution_count": 92,
   "metadata": {},
   "outputs": [
    {
     "data": {
      "image/png": "[encoded data removed]",
      "text/plain": [
       "<Figure size 432x288 with 1 Axes>"
      ]
     },
     "metadata": {
      "needs_background": "light"
     },
     "output_type": "display_data"
    }
   ],
   "source": [
    "plt.title('Random Forest Score as Number of Trees Increases')\n",
    "plt.plot(np.arange(50,150), treescores)\n",
    "plt.xlabel('Number of Trees')\n",
    "plt.ylabel('Random Forest Score')\n",
    "plt.show()"
   ]
  },
  {
   "cell_type": "markdown",
   "metadata": {},
   "source": [
    "#### 2.2.4 Best Model"
   ]
  },
  {
   "cell_type": "code",
   "execution_count": 131,
   "metadata": {},
   "outputs": [],
   "source": [
    "RF = RandomForestClassifier(n_estimators = besttree)"
   ]
  },
  {
   "cell_type": "markdown",
   "metadata": {},
   "source": [
    "### 2.3 Logistic Regression"
   ]
  },
  {
   "cell_type": "markdown",
   "metadata": {},
   "source": [
    "#### 2.3.1 Data Setup"
   ]
  },
  {
   "cell_type": "code",
   "execution_count": 108,
   "metadata": {},
   "outputs": [],
   "source": [
    "# use Logistic Regression to predict category\n",
    "def predictGenreLog(training_set, test_set,  target, test_target, componentsList, c):\n",
    "\tclassifier = LogisticRegression(multi_class='multinomial', solver='lbfgs', C=c)\n",
    "\tclassifier.fit(training_set[componentsList], target)\n",
    "\treturn test_set, classifier.predict(test_set[componentsList]), test_target, classifier.score(test_set[componentsList], test_target)"
   ]
  },
  {
   "cell_type": "code",
   "execution_count": 94,
   "metadata": {},
   "outputs": [
    {
     "name": "stderr",
     "output_type": "stream",
     "text": [
      "/anaconda3/lib/python3.7/site-packages/sklearn/preprocessing/data.py:323: DataConversionWarning:\n",
      "\n",
      "Data with input dtype int64, float64 were all converted to float64 by MinMaxScaler.\n",
      "\n",
      "/anaconda3/lib/python3.7/site-packages/sklearn/preprocessing/data.py:323: DataConversionWarning:\n",
      "\n",
      "Data with input dtype int64, float64 were all converted to float64 by MinMaxScaler.\n",
      "\n"
     ]
    }
   ],
   "source": [
    "# split data\n",
    "training_set_log, test_set_log, target_log, test_target_log = splitDataFrame(songs, allFeatures)"
   ]
  },
  {
   "cell_type": "markdown",
   "metadata": {},
   "source": [
    "#### 2.3.2 Data Preprocessing"
   ]
  },
  {
   "cell_type": "code",
   "execution_count": 98,
   "metadata": {},
   "outputs": [],
   "source": [
    "logpcascores = []\n",
    "for i in range(1,12):\n",
    "    training_set, test_set, components_col = PCAOnDataFrame(training_set_log, test_set_log, allFeatures, i)\n",
    "    testdf, predictions, correctValues, score = predictGenreLog(training_set, test_set, target, test_target, components_col, c=1.0)\n",
    "    logpcascores.append(score)"
   ]
  },
  {
   "cell_type": "code",
   "execution_count": 99,
   "metadata": {},
   "outputs": [
    {
     "data": {
      "text/plain": [
       "11"
      ]
     },
     "execution_count": 99,
     "metadata": {},
     "output_type": "execute_result"
    }
   ],
   "source": [
    "bestlogpca = np.argmax(logpcascores) + 1\n",
    "bestlogpca"
   ]
  },
  {
   "cell_type": "code",
   "execution_count": 100,
   "metadata": {},
   "outputs": [],
   "source": [
    "training_set_logpca, test_set_logpca, components_col_log = PCAOnDataFrame(training_set_log, test_set_log, allFeatures, bestlogpca)"
   ]
  },
  {
   "cell_type": "code",
   "execution_count": 101,
   "metadata": {},
   "outputs": [
    {
     "data": {
      "image/png": "[encoded data removed]",
      "text/plain": [
       "<Figure size 432x288 with 1 Axes>"
      ]
     },
     "metadata": {
      "needs_background": "light"
     },
     "output_type": "display_data"
    }
   ],
   "source": [
    "plt.title('Logistic Regression Score as Number of PCA Components Increases')\n",
    "plt.plot(np.arange(1,12), logpcascores)\n",
    "plt.xlabel('Number of Components')\n",
    "plt.ylabel('Logistic Regression Score')\n",
    "plt.show()"
   ]
  },
  {
   "cell_type": "markdown",
   "metadata": {},
   "source": [
    "#### 2.3.3 Parameter Tuning"
   ]
  },
  {
   "cell_type": "code",
   "execution_count": 110,
   "metadata": {},
   "outputs": [],
   "source": [
    "# find optimal regularization strength\n",
    "cscores = []\n",
    "for i in np.arange(0.1, 10.0, 0.1):\n",
    "    testdf, predictions, correctValues, score = predictGenreLog(training_set_logpca, test_set_logpca, target_log, test_target_log, components_col_log, i)\n",
    "    cscores.append(score)"
   ]
  },
  {
   "cell_type": "code",
   "execution_count": 113,
   "metadata": {},
   "outputs": [
    {
     "data": {
      "text/plain": [
       "1.6"
      ]
     },
     "execution_count": 113,
     "metadata": {},
     "output_type": "execute_result"
    }
   ],
   "source": [
    "# assign to bestc\n",
    "bestc = np.argmax(cscores)/10 + 0.1\n",
    "bestc"
   ]
  },
  {
   "cell_type": "code",
   "execution_count": 115,
   "metadata": {},
   "outputs": [
    {
     "data": {
      "image/png": "[encoded data removed]",
      "text/plain": [
       "<Figure size 432x288 with 1 Axes>"
      ]
     },
     "metadata": {
      "needs_background": "light"
     },
     "output_type": "display_data"
    }
   ],
   "source": [
    "plt.title('Logistic Regression Score as Regularization Strength Decreases')\n",
    "plt.plot(np.arange(0.1, 10.0, 0.1), cscores)\n",
    "plt.xlabel('C (Inverse of Regularization Strength)')\n",
    "plt.ylabel('Logistic Regression Score')\n",
    "plt.show()"
   ]
  },
  {
   "cell_type": "markdown",
   "metadata": {},
   "source": [
    "#### 2.3.4 Best Model"
   ]
  },
  {
   "cell_type": "code",
   "execution_count": 172,
   "metadata": {},
   "outputs": [],
   "source": [
    "LOG = LogisticRegression(multi_class='multinomial', solver='lbfgs', C=bestc, max_iter=2000)"
   ]
  },
  {
   "cell_type": "markdown",
   "metadata": {},
   "source": [
    "### 2.4 Gradient Boosting"
   ]
  },
  {
   "cell_type": "markdown",
   "metadata": {},
   "source": [
    "#### 2.4.1 Data Setup"
   ]
  },
  {
   "cell_type": "code",
   "execution_count": 117,
   "metadata": {},
   "outputs": [],
   "source": [
    "# use Logistic Regression to predict category\n",
    "def predictGenreGB(training_set, test_set,  target, test_target, componentsList, n):\n",
    "\tclassifier = GradientBoostingClassifier(n_estimators=n)\n",
    "\tclassifier.fit(training_set[componentsList], target)\n",
    "\treturn test_set, classifier.predict(test_set[componentsList]), test_target, classifier.score(test_set[componentsList], test_target)"
   ]
  },
  {
   "cell_type": "code",
   "execution_count": 118,
   "metadata": {},
   "outputs": [
    {
     "name": "stderr",
     "output_type": "stream",
     "text": [
      "/anaconda3/lib/python3.7/site-packages/sklearn/preprocessing/data.py:323: DataConversionWarning:\n",
      "\n",
      "Data with input dtype int64, float64 were all converted to float64 by MinMaxScaler.\n",
      "\n",
      "/anaconda3/lib/python3.7/site-packages/sklearn/preprocessing/data.py:323: DataConversionWarning:\n",
      "\n",
      "Data with input dtype int64, float64 were all converted to float64 by MinMaxScaler.\n",
      "\n"
     ]
    }
   ],
   "source": [
    "# split data\n",
    "training_set_gb, test_set_gb, target_gb, test_target_gb = splitDataFrame(songs, allFeatures)"
   ]
  },
  {
   "cell_type": "markdown",
   "metadata": {},
   "source": [
    "#### 2.4.2 Data Preprocessing"
   ]
  },
  {
   "cell_type": "code",
   "execution_count": 119,
   "metadata": {},
   "outputs": [],
   "source": [
    "gbpcascores = []\n",
    "for i in range(1,12):\n",
    "    training_set, test_set, components_col = PCAOnDataFrame(training_set_gb, test_set_gb, allFeatures, i)\n",
    "    testdf, predictions, correctValues, score = predictGenreGB(training_set, test_set, target, test_target, components_col, n=100)\n",
    "    gbpcascores.append(score)"
   ]
  },
  {
   "cell_type": "code",
   "execution_count": 120,
   "metadata": {},
   "outputs": [
    {
     "data": {
      "text/plain": [
       "10"
      ]
     },
     "execution_count": 120,
     "metadata": {},
     "output_type": "execute_result"
    }
   ],
   "source": [
    "bestgbpca = np.argmax(gbpcascores) + 1\n",
    "bestgbpca"
   ]
  },
  {
   "cell_type": "code",
   "execution_count": 121,
   "metadata": {},
   "outputs": [],
   "source": [
    "training_set_gbpca, test_set_gbpca, components_col_gb = PCAOnDataFrame(training_set_gb, test_set_gb, allFeatures, bestgbpca)"
   ]
  },
  {
   "cell_type": "code",
   "execution_count": 122,
   "metadata": {},
   "outputs": [
    {
     "data": {
      "image/png": "[encoded data removed]",
      "text/plain": [
       "<Figure size 432x288 with 1 Axes>"
      ]
     },
     "metadata": {
      "needs_background": "light"
     },
     "output_type": "display_data"
    }
   ],
   "source": [
    "plt.title('Gradient Boosting Score as Number of PCA Components Increases')\n",
    "plt.plot(np.arange(1,12), gbpcascores)\n",
    "plt.xlabel('Number of Components')\n",
    "plt.ylabel('Gradient Boosting Score')\n",
    "plt.show()"
   ]
  },
  {
   "cell_type": "markdown",
   "metadata": {},
   "source": [
    "#### 2.4.3 Parameter Tuning"
   ]
  },
  {
   "cell_type": "code",
   "execution_count": 123,
   "metadata": {},
   "outputs": [],
   "source": [
    "# find optimal number of boosting stages\n",
    "nscores = []\n",
    "for i in range(75,150):\n",
    "    testdf, predictions, correctValues, score = predictGenreGB(training_set_gbpca, test_set_gbpca, target_gb, test_target_gb, components_col_gb, i)\n",
    "    nscores.append(score)"
   ]
  },
  {
   "cell_type": "code",
   "execution_count": 124,
   "metadata": {},
   "outputs": [
    {
     "data": {
      "text/plain": [
       "148"
      ]
     },
     "execution_count": 124,
     "metadata": {},
     "output_type": "execute_result"
    }
   ],
   "source": [
    "# assign to bestn\n",
    "bestn = np.argmax(nscores) + 75\n",
    "bestn"
   ]
  },
  {
   "cell_type": "code",
   "execution_count": 125,
   "metadata": {},
   "outputs": [
    {
     "data": {
      "image/png": "[encoded data removed]",
      "text/plain": [
       "<Figure size 432x288 with 1 Axes>"
      ]
     },
     "metadata": {
      "needs_background": "light"
     },
     "output_type": "display_data"
    }
   ],
   "source": [
    "plt.title('Gradient Boosting Score as Number of Boosting Stages Increases')\n",
    "plt.plot(np.arange(75,150), nscores)\n",
    "plt.xlabel('Number of Boosting Stages')\n",
    "plt.ylabel('Gradient Boosting Score')\n",
    "plt.show()"
   ]
  },
  {
   "cell_type": "markdown",
   "metadata": {},
   "source": [
    "#### 2.4.4 Best Model"
   ]
  },
  {
   "cell_type": "code",
   "execution_count": 133,
   "metadata": {},
   "outputs": [],
   "source": [
    "GB = GradientBoostingClassifier(n_estimators = bestn)"
   ]
  },
  {
   "cell_type": "markdown",
   "metadata": {},
   "source": [
    "## 3 Model Comparison"
   ]
  },
  {
   "cell_type": "markdown",
   "metadata": {},
   "source": [
    "### 3.1 Cross-Validation"
   ]
  },
  {
   "cell_type": "markdown",
   "metadata": {},
   "source": [
    "We perform cross-validation on the best version of each algorithm and choose the model with the lowest test error."
   ]
  },
  {
   "cell_type": "code",
   "execution_count": 146,
   "metadata": {},
   "outputs": [],
   "source": [
    "# perform PCA on training and testing set\n",
    "def cvPCA(fullset, features, components):\n",
    "\tpca = PCA(n_components=components, random_state=7)\n",
    "\tpca.fit(fullset[features])\n",
    "\tfullset_pca = pca.fit_transform(fullset[features])\n",
    "\tcomponents_col = [x for x in range(0, components)]\n",
    "\ttarget = fullset['genre']\n",
    "\tfullset = pd.DataFrame(fullset_pca, columns = components_col)\n",
    "\treturn fullset, target, components_col"
   ]
  },
  {
   "cell_type": "markdown",
   "metadata": {},
   "source": [
    "#### 3.1.1 K-Nearest-Neighbors"
   ]
  },
  {
   "cell_type": "code",
   "execution_count": 153,
   "metadata": {},
   "outputs": [],
   "source": [
    "full_knnpca, target_knnpca, components_col_knn = cvPCA(songs, allFeatures, bestknnpca)"
   ]
  },
  {
   "cell_type": "code",
   "execution_count": 160,
   "metadata": {},
   "outputs": [],
   "source": [
    "sck = cross_val_score(KNN, full_knnpca, target_knnpca, cv=10)"
   ]
  },
  {
   "cell_type": "code",
   "execution_count": 162,
   "metadata": {},
   "outputs": [
    {
     "name": "stdout",
     "output_type": "stream",
     "text": [
      "Accuracy: 0.50 (+/- 0.02)\n"
     ]
    }
   ],
   "source": [
    "print(\"Accuracy: %0.2f (+/- %0.2f)\" % (sck.mean(), sck.std() * 2))"
   ]
  },
  {
   "cell_type": "markdown",
   "metadata": {},
   "source": [
    "#### 3.1.2 Random Forest"
   ]
  },
  {
   "cell_type": "code",
   "execution_count": 163,
   "metadata": {},
   "outputs": [],
   "source": [
    "full_rfpca, target_rfpca, components_col_rf = cvPCA(songs, allFeatures, bestrfpca)"
   ]
  },
  {
   "cell_type": "code",
   "execution_count": 164,
   "metadata": {},
   "outputs": [],
   "source": [
    "scrf = cross_val_score(RF, full_rfpca, target_rfpca, cv=10)"
   ]
  },
  {
   "cell_type": "code",
   "execution_count": 165,
   "metadata": {},
   "outputs": [
    {
     "name": "stdout",
     "output_type": "stream",
     "text": [
      "Accuracy: 0.80 (+/- 0.03)\n"
     ]
    }
   ],
   "source": [
    "print(\"Accuracy: %0.2f (+/- %0.2f)\" % (scrf.mean(), scrf.std() * 2))"
   ]
  },
  {
   "cell_type": "markdown",
   "metadata": {},
   "source": [
    "#### 3.1.3 Logistic Regression"
   ]
  },
  {
   "cell_type": "code",
   "execution_count": 166,
   "metadata": {},
   "outputs": [],
   "source": [
    "full_logpca, target_logpca, components_col_log = cvPCA(songs, allFeatures, bestlogpca)"
   ]
  },
  {
   "cell_type": "code",
   "execution_count": 173,
   "metadata": {},
   "outputs": [],
   "source": [
    "sclog = cross_val_score(LOG, full_logpca, target_logpca, cv=10)"
   ]
  },
  {
   "cell_type": "code",
   "execution_count": 174,
   "metadata": {},
   "outputs": [
    {
     "name": "stdout",
     "output_type": "stream",
     "text": [
      "Accuracy: 0.81 (+/- 0.02)\n"
     ]
    }
   ],
   "source": [
    "print(\"Accuracy: %0.2f (+/- %0.2f)\" % (sclog.mean(), sclog.std() * 2))"
   ]
  },
  {
   "cell_type": "markdown",
   "metadata": {},
   "source": [
    "#### 3.1.3 Gradient Boosting"
   ]
  },
  {
   "cell_type": "code",
   "execution_count": 175,
   "metadata": {},
   "outputs": [],
   "source": [
    "full_gbpca, target_gbpca, components_col_gb = cvPCA(songs, allFeatures, bestgbpca)"
   ]
  },
  {
   "cell_type": "code",
   "execution_count": 176,
   "metadata": {},
   "outputs": [],
   "source": [
    "scgb = cross_val_score(GB, full_gbpca, target_gbpca, cv=10)"
   ]
  },
  {
   "cell_type": "code",
   "execution_count": 177,
   "metadata": {},
   "outputs": [
    {
     "name": "stdout",
     "output_type": "stream",
     "text": [
      "Accuracy: 0.82 (+/- 0.03)\n"
     ]
    }
   ],
   "source": [
    "print(\"Accuracy: %0.2f (+/- %0.2f)\" % (scgb.mean(), scgb.std() * 2))"
   ]
  },
  {
   "cell_type": "markdown",
   "metadata": {},
   "source": [
    "### 3.2 Model Choice"
   ]
  },
  {
   "cell_type": "markdown",
   "metadata": {},
   "source": [
    "Since the Gradient Boosting model has the highest accuracy, we will use this model moving forward."
   ]
  }
 ],
 "metadata": {
  "kernelspec": {
   "display_name": "Python 3",
   "language": "python",
   "name": "python3"
  },
  "language_info": {
   "codemirror_mode": {
    "name": "ipython",
    "version": 3
   },
   "file_extension": ".py",
   "mimetype": "text/x-python",
   "name": "python",
   "nbconvert_exporter": "python",
   "pygments_lexer": "ipython3",
   "version": "3.7.1"
  }
 },
 "nbformat": 4,
 "nbformat_minor": 2
}
